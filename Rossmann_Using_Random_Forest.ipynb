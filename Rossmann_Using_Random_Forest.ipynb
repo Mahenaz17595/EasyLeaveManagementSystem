{
  "nbformat": 4,
  "nbformat_minor": 0,
  "metadata": {
    "colab": {
      "name": "Rossmann Using Random Forest.ipynb",
      "provenance": [],
      "collapsed_sections": [],
      "toc_visible": true,
      "authorship_tag": "ABX9TyNCftaUKGMefhwAqTyrx7vb",
      "include_colab_link": true
    },
    "kernelspec": {
      "name": "python3",
      "display_name": "Python 3"
    }
  },
  "cells": [
    {
      "cell_type": "markdown",
      "metadata": {
        "id": "view-in-github",
        "colab_type": "text"
      },
      "source": [
        "<a href=\"https://colab.research.google.com/github/Mahenaz17595/EasyLeaveManagementSystem/blob/master/Rossmann_Using_Random_Forest.ipynb\" target=\"_parent\"><img src=\"https://colab.research.google.com/assets/colab-badge.svg\" alt=\"Open In Colab\"/></a>"
      ]
    },
    {
      "cell_type": "markdown",
      "metadata": {
        "id": "nFi_ArTPKGXD",
        "colab_type": "text"
      },
      "source": [
        "**Import Statements**"
      ]
    },
    {
      "cell_type": "code",
      "metadata": {
        "id": "A-o_FtcsKIw9",
        "colab_type": "code",
        "colab": {}
      },
      "source": [
        "%matplotlib inline\n",
        "%reload_ext autoreload\n",
        "%autoreload 2\n"
      ],
      "execution_count": 0,
      "outputs": []
    },
    {
      "cell_type": "code",
      "metadata": {
        "id": "jTpLde896M-O",
        "colab_type": "code",
        "colab": {
          "base_uri": "https://localhost:8080/",
          "height": 1000
        },
        "outputId": "626f05b1-74e4-42bb-ed9a-f591c8256e30"
      },
      "source": [
        "!pip install fastai==0.7.0"
      ],
      "execution_count": 2,
      "outputs": [
        {
          "output_type": "stream",
          "text": [
            "Requirement already satisfied: fastai==0.7.0 in /usr/local/lib/python3.6/dist-packages (0.7.0)\n",
            "Requirement already satisfied: matplotlib in /usr/local/lib/python3.6/dist-packages (from fastai==0.7.0) (3.2.1)\n",
            "Requirement already satisfied: traitlets in /usr/local/lib/python3.6/dist-packages (from fastai==0.7.0) (4.3.3)\n",
            "Requirement already satisfied: pickleshare in /usr/local/lib/python3.6/dist-packages (from fastai==0.7.0) (0.7.5)\n",
            "Requirement already satisfied: Jinja2 in /usr/local/lib/python3.6/dist-packages (from fastai==0.7.0) (2.11.2)\n",
            "Requirement already satisfied: certifi in /usr/local/lib/python3.6/dist-packages (from fastai==0.7.0) (2020.4.5.1)\n",
            "Requirement already satisfied: wcwidth in /usr/local/lib/python3.6/dist-packages (from fastai==0.7.0) (0.1.9)\n",
            "Requirement already satisfied: feather-format in /usr/local/lib/python3.6/dist-packages (from fastai==0.7.0) (0.4.1)\n",
            "Requirement already satisfied: pyzmq in /usr/local/lib/python3.6/dist-packages (from fastai==0.7.0) (19.0.1)\n",
            "Requirement already satisfied: opencv-python in /usr/local/lib/python3.6/dist-packages (from fastai==0.7.0) (4.1.2.30)\n",
            "Requirement already satisfied: ipython in /usr/local/lib/python3.6/dist-packages (from fastai==0.7.0) (5.5.0)\n",
            "Requirement already satisfied: pandas-summary in /usr/local/lib/python3.6/dist-packages (from fastai==0.7.0) (0.0.7)\n",
            "Requirement already satisfied: jsonschema in /usr/local/lib/python3.6/dist-packages (from fastai==0.7.0) (2.6.0)\n",
            "Requirement already satisfied: numpy in /usr/local/lib/python3.6/dist-packages (from fastai==0.7.0) (1.18.4)\n",
            "Requirement already satisfied: pandas in /usr/local/lib/python3.6/dist-packages (from fastai==0.7.0) (1.0.3)\n",
            "Requirement already satisfied: plotnine in /usr/local/lib/python3.6/dist-packages (from fastai==0.7.0) (0.6.0)\n",
            "Requirement already satisfied: testpath in /usr/local/lib/python3.6/dist-packages (from fastai==0.7.0) (0.4.4)\n",
            "Requirement already satisfied: graphviz in /usr/local/lib/python3.6/dist-packages (from fastai==0.7.0) (0.10.1)\n",
            "Requirement already satisfied: ipython-genutils in /usr/local/lib/python3.6/dist-packages (from fastai==0.7.0) (0.2.0)\n",
            "Requirement already satisfied: python-dateutil in /usr/local/lib/python3.6/dist-packages (from fastai==0.7.0) (2.8.1)\n",
            "Requirement already satisfied: tqdm in /usr/local/lib/python3.6/dist-packages (from fastai==0.7.0) (4.41.1)\n",
            "Requirement already satisfied: ipywidgets in /usr/local/lib/python3.6/dist-packages (from fastai==0.7.0) (7.5.1)\n",
            "Requirement already satisfied: jedi in /usr/local/lib/python3.6/dist-packages (from fastai==0.7.0) (0.17.0)\n",
            "Requirement already satisfied: simplegeneric in /usr/local/lib/python3.6/dist-packages (from fastai==0.7.0) (0.8.1)\n",
            "Requirement already satisfied: pytz in /usr/local/lib/python3.6/dist-packages (from fastai==0.7.0) (2018.9)\n",
            "Requirement already satisfied: seaborn in /usr/local/lib/python3.6/dist-packages (from fastai==0.7.0) (0.10.1)\n",
            "Requirement already satisfied: Pygments in /usr/local/lib/python3.6/dist-packages (from fastai==0.7.0) (2.1.3)\n",
            "Requirement already satisfied: Pillow in /usr/local/lib/python3.6/dist-packages (from fastai==0.7.0) (7.0.0)\n",
            "Requirement already satisfied: torch<0.4 in /usr/local/lib/python3.6/dist-packages (from fastai==0.7.0) (0.3.1)\n",
            "Requirement already satisfied: entrypoints in /usr/local/lib/python3.6/dist-packages (from fastai==0.7.0) (0.3)\n",
            "Requirement already satisfied: widgetsnbextension in /usr/local/lib/python3.6/dist-packages (from fastai==0.7.0) (3.5.1)\n",
            "Requirement already satisfied: cycler in /usr/local/lib/python3.6/dist-packages (from fastai==0.7.0) (0.10.0)\n",
            "Requirement already satisfied: ptyprocess in /usr/local/lib/python3.6/dist-packages (from fastai==0.7.0) (0.6.0)\n",
            "Requirement already satisfied: bcolz in /usr/local/lib/python3.6/dist-packages (from fastai==0.7.0) (1.2.1)\n",
            "Requirement already satisfied: isoweek in /usr/local/lib/python3.6/dist-packages (from fastai==0.7.0) (1.3.3)\n",
            "Requirement already satisfied: PyYAML in /usr/local/lib/python3.6/dist-packages (from fastai==0.7.0) (3.13)\n",
            "Requirement already satisfied: html5lib in /usr/local/lib/python3.6/dist-packages (from fastai==0.7.0) (1.0.1)\n",
            "Requirement already satisfied: ipykernel in /usr/local/lib/python3.6/dist-packages (from fastai==0.7.0) (4.10.1)\n",
            "Requirement already satisfied: bleach in /usr/local/lib/python3.6/dist-packages (from fastai==0.7.0) (3.1.5)\n",
            "Requirement already satisfied: pyparsing in /usr/local/lib/python3.6/dist-packages (from fastai==0.7.0) (2.4.7)\n",
            "Requirement already satisfied: torchvision in /usr/local/lib/python3.6/dist-packages (from fastai==0.7.0) (0.6.0+cu101)\n",
            "Requirement already satisfied: tornado in /usr/local/lib/python3.6/dist-packages (from fastai==0.7.0) (4.5.3)\n",
            "Requirement already satisfied: torchtext in /usr/local/lib/python3.6/dist-packages (from fastai==0.7.0) (0.3.1)\n",
            "Requirement already satisfied: webencodings in /usr/local/lib/python3.6/dist-packages (from fastai==0.7.0) (0.5.1)\n",
            "Requirement already satisfied: decorator in /usr/local/lib/python3.6/dist-packages (from fastai==0.7.0) (4.4.2)\n",
            "Requirement already satisfied: sklearn-pandas in /usr/local/lib/python3.6/dist-packages (from fastai==0.7.0) (1.8.0)\n",
            "Requirement already satisfied: scipy in /usr/local/lib/python3.6/dist-packages (from fastai==0.7.0) (1.4.1)\n",
            "Requirement already satisfied: jupyter in /usr/local/lib/python3.6/dist-packages (from fastai==0.7.0) (1.0.0)\n",
            "Requirement already satisfied: MarkupSafe in /usr/local/lib/python3.6/dist-packages (from fastai==0.7.0) (1.1.1)\n",
            "Requirement already satisfied: kiwisolver>=1.0.1 in /usr/local/lib/python3.6/dist-packages (from matplotlib->fastai==0.7.0) (1.2.0)\n",
            "Requirement already satisfied: six in /usr/local/lib/python3.6/dist-packages (from traitlets->fastai==0.7.0) (1.12.0)\n",
            "Requirement already satisfied: pyarrow>=0.4.0 in /usr/local/lib/python3.6/dist-packages (from feather-format->fastai==0.7.0) (0.14.1)\n",
            "Requirement already satisfied: pexpect; sys_platform != \"win32\" in /usr/local/lib/python3.6/dist-packages (from ipython->fastai==0.7.0) (4.8.0)\n",
            "Requirement already satisfied: prompt-toolkit<2.0.0,>=1.0.4 in /usr/local/lib/python3.6/dist-packages (from ipython->fastai==0.7.0) (1.0.18)\n",
            "Requirement already satisfied: setuptools>=18.5 in /usr/local/lib/python3.6/dist-packages (from ipython->fastai==0.7.0) (46.4.0)\n",
            "Requirement already satisfied: statsmodels>=0.9.0 in /usr/local/lib/python3.6/dist-packages (from plotnine->fastai==0.7.0) (0.10.2)\n",
            "Requirement already satisfied: descartes>=1.1.0 in /usr/local/lib/python3.6/dist-packages (from plotnine->fastai==0.7.0) (1.1.0)\n",
            "Requirement already satisfied: patsy>=0.4.1 in /usr/local/lib/python3.6/dist-packages (from plotnine->fastai==0.7.0) (0.5.1)\n",
            "Requirement already satisfied: mizani>=0.6.0 in /usr/local/lib/python3.6/dist-packages (from plotnine->fastai==0.7.0) (0.6.0)\n",
            "Requirement already satisfied: nbformat>=4.2.0 in /usr/local/lib/python3.6/dist-packages (from ipywidgets->fastai==0.7.0) (5.0.6)\n",
            "Requirement already satisfied: parso>=0.7.0 in /usr/local/lib/python3.6/dist-packages (from jedi->fastai==0.7.0) (0.7.0)\n",
            "Requirement already satisfied: notebook>=4.4.1 in /usr/local/lib/python3.6/dist-packages (from widgetsnbextension->fastai==0.7.0) (5.2.2)\n",
            "Requirement already satisfied: jupyter-client in /usr/local/lib/python3.6/dist-packages (from ipykernel->fastai==0.7.0) (5.3.4)\n",
            "Requirement already satisfied: packaging in /usr/local/lib/python3.6/dist-packages (from bleach->fastai==0.7.0) (20.4)\n",
            "Requirement already satisfied: requests in /usr/local/lib/python3.6/dist-packages (from torchtext->fastai==0.7.0) (2.23.0)\n",
            "Requirement already satisfied: scikit-learn>=0.15.0 in /usr/local/lib/python3.6/dist-packages (from sklearn-pandas->fastai==0.7.0) (0.22.2.post1)\n",
            "Requirement already satisfied: nbconvert in /usr/local/lib/python3.6/dist-packages (from jupyter->fastai==0.7.0) (5.6.1)\n",
            "Requirement already satisfied: qtconsole in /usr/local/lib/python3.6/dist-packages (from jupyter->fastai==0.7.0) (4.7.4)\n",
            "Requirement already satisfied: jupyter-console in /usr/local/lib/python3.6/dist-packages (from jupyter->fastai==0.7.0) (5.2.0)\n",
            "Requirement already satisfied: palettable in /usr/local/lib/python3.6/dist-packages (from mizani>=0.6.0->plotnine->fastai==0.7.0) (3.3.0)\n",
            "Requirement already satisfied: jupyter-core in /usr/local/lib/python3.6/dist-packages (from nbformat>=4.2.0->ipywidgets->fastai==0.7.0) (4.6.3)\n",
            "Requirement already satisfied: terminado>=0.3.3; sys_platform != \"win32\" in /usr/local/lib/python3.6/dist-packages (from notebook>=4.4.1->widgetsnbextension->fastai==0.7.0) (0.8.3)\n",
            "Requirement already satisfied: idna<3,>=2.5 in /usr/local/lib/python3.6/dist-packages (from requests->torchtext->fastai==0.7.0) (2.9)\n",
            "Requirement already satisfied: urllib3!=1.25.0,!=1.25.1,<1.26,>=1.21.1 in /usr/local/lib/python3.6/dist-packages (from requests->torchtext->fastai==0.7.0) (1.24.3)\n",
            "Requirement already satisfied: chardet<4,>=3.0.2 in /usr/local/lib/python3.6/dist-packages (from requests->torchtext->fastai==0.7.0) (3.0.4)\n",
            "Requirement already satisfied: joblib>=0.11 in /usr/local/lib/python3.6/dist-packages (from scikit-learn>=0.15.0->sklearn-pandas->fastai==0.7.0) (0.15.1)\n",
            "Requirement already satisfied: mistune<2,>=0.8.1 in /usr/local/lib/python3.6/dist-packages (from nbconvert->jupyter->fastai==0.7.0) (0.8.4)\n",
            "Requirement already satisfied: pandocfilters>=1.4.1 in /usr/local/lib/python3.6/dist-packages (from nbconvert->jupyter->fastai==0.7.0) (1.4.2)\n",
            "Requirement already satisfied: defusedxml in /usr/local/lib/python3.6/dist-packages (from nbconvert->jupyter->fastai==0.7.0) (0.6.0)\n",
            "Requirement already satisfied: qtpy in /usr/local/lib/python3.6/dist-packages (from qtconsole->jupyter->fastai==0.7.0) (1.9.0)\n"
          ],
          "name": "stdout"
        }
      ]
    },
    {
      "cell_type": "code",
      "metadata": {
        "id": "dkomky-PKMB3",
        "colab_type": "code",
        "colab": {
          "base_uri": "https://localhost:8080/",
          "height": 481
        },
        "outputId": "febe8caa-977d-48d8-e4ec-df98ffeaa056"
      },
      "source": [
        "from fastai.imports import *\n",
        "from fastai.structured import *\n",
        "from fastai.column_data import *\n",
        "import sklearn.impute.SimpleImputer\n",
        "from pandas_summary import DataFrameSummary\n",
        "from sklearn.ensemble import RandomForestRegressor, RandomForestClassifier\n",
        "from IPython.display import display\n",
        "from sklearn import metrics\n",
        "import altair as alt\n",
        "from altair import Chart, X, Y, Axis, SortField\n",
        "alt.renderers.enable('notebook')\n",
        "from pandas import Timestamp\n",
        "#import ggplot\n",
        "np.set_printoptions(threshold=50, edgeitems=20)\n",
        "from pdpbox import pdp\n",
        "from plotnine import *\n",
        "import feather\n",
        "import pandas as pd\n",
        "#import pdvega\n",
        "\n",
        "from sklearn.impute import SimpleImputer\n",
        "imputer = SimpleImputer(missing_values=np.nan, strategy='mean')"
      ],
      "execution_count": 10,
      "outputs": [
        {
          "output_type": "error",
          "ename": "ImportError",
          "evalue": "ignored",
          "traceback": [
            "\u001b[0;31m---------------------------------------------------------------------------\u001b[0m",
            "\u001b[0;31mImportError\u001b[0m                               Traceback (most recent call last)",
            "\u001b[0;32m<ipython-input-10-a60fc56aaa88>\u001b[0m in \u001b[0;36m<module>\u001b[0;34m()\u001b[0m\n\u001b[1;32m      1\u001b[0m \u001b[0;32mfrom\u001b[0m \u001b[0mfastai\u001b[0m\u001b[0;34m.\u001b[0m\u001b[0mimports\u001b[0m \u001b[0;32mimport\u001b[0m \u001b[0;34m*\u001b[0m\u001b[0;34m\u001b[0m\u001b[0;34m\u001b[0m\u001b[0m\n\u001b[0;32m----> 2\u001b[0;31m \u001b[0;32mfrom\u001b[0m \u001b[0mfastai\u001b[0m\u001b[0;34m.\u001b[0m\u001b[0mstructured\u001b[0m \u001b[0;32mimport\u001b[0m \u001b[0;34m*\u001b[0m\u001b[0;34m\u001b[0m\u001b[0;34m\u001b[0m\u001b[0m\n\u001b[0m\u001b[1;32m      3\u001b[0m \u001b[0;32mfrom\u001b[0m \u001b[0mfastai\u001b[0m\u001b[0;34m.\u001b[0m\u001b[0mcolumn_data\u001b[0m \u001b[0;32mimport\u001b[0m \u001b[0;34m*\u001b[0m\u001b[0;34m\u001b[0m\u001b[0;34m\u001b[0m\u001b[0m\n\u001b[1;32m      4\u001b[0m \u001b[0;32mimport\u001b[0m \u001b[0msklearn\u001b[0m\u001b[0;34m.\u001b[0m\u001b[0mimpute\u001b[0m\u001b[0;34m.\u001b[0m\u001b[0mSimpleImputer\u001b[0m\u001b[0;34m\u001b[0m\u001b[0;34m\u001b[0m\u001b[0m\n\u001b[1;32m      5\u001b[0m \u001b[0;32mfrom\u001b[0m \u001b[0mpandas_summary\u001b[0m \u001b[0;32mimport\u001b[0m \u001b[0mDataFrameSummary\u001b[0m\u001b[0;34m\u001b[0m\u001b[0;34m\u001b[0m\u001b[0m\n",
            "\u001b[0;32m/usr/local/lib/python3.6/dist-packages/fastai/structured.py\u001b[0m in \u001b[0;36m<module>\u001b[0;34m()\u001b[0m\n\u001b[1;32m      2\u001b[0m \u001b[0;34m\u001b[0m\u001b[0m\n\u001b[1;32m      3\u001b[0m \u001b[0;32mfrom\u001b[0m \u001b[0msklearn_pandas\u001b[0m \u001b[0;32mimport\u001b[0m \u001b[0mDataFrameMapper\u001b[0m\u001b[0;34m\u001b[0m\u001b[0;34m\u001b[0m\u001b[0m\n\u001b[0;32m----> 4\u001b[0;31m \u001b[0;32mfrom\u001b[0m \u001b[0msklearn\u001b[0m\u001b[0;34m.\u001b[0m\u001b[0mpreprocessing\u001b[0m \u001b[0;32mimport\u001b[0m \u001b[0mLabelEncoder\u001b[0m\u001b[0;34m,\u001b[0m \u001b[0mImputer\u001b[0m\u001b[0;34m,\u001b[0m \u001b[0mStandardScaler\u001b[0m\u001b[0;34m\u001b[0m\u001b[0;34m\u001b[0m\u001b[0m\n\u001b[0m\u001b[1;32m      5\u001b[0m \u001b[0;32mfrom\u001b[0m \u001b[0mpandas\u001b[0m\u001b[0;34m.\u001b[0m\u001b[0mapi\u001b[0m\u001b[0;34m.\u001b[0m\u001b[0mtypes\u001b[0m \u001b[0;32mimport\u001b[0m \u001b[0mis_string_dtype\u001b[0m\u001b[0;34m,\u001b[0m \u001b[0mis_numeric_dtype\u001b[0m\u001b[0;34m\u001b[0m\u001b[0;34m\u001b[0m\u001b[0m\n\u001b[1;32m      6\u001b[0m \u001b[0;32mfrom\u001b[0m \u001b[0msklearn\u001b[0m\u001b[0;34m.\u001b[0m\u001b[0mensemble\u001b[0m \u001b[0;32mimport\u001b[0m \u001b[0mforest\u001b[0m\u001b[0;34m\u001b[0m\u001b[0;34m\u001b[0m\u001b[0m\n",
            "\u001b[0;31mImportError\u001b[0m: cannot import name 'Imputer'",
            "",
            "\u001b[0;31m---------------------------------------------------------------------------\u001b[0;32m\nNOTE: If your import is failing due to a missing package, you can\nmanually install dependencies using either !pip or !apt.\n\nTo view examples of installing some common dependencies, click the\n\"Open Examples\" button below.\n\u001b[0;31m---------------------------------------------------------------------------\u001b[0m\n"
          ]
        }
      ]
    },
    {
      "cell_type": "markdown",
      "metadata": {
        "id": "898aY3emKdl5",
        "colab_type": "text"
      },
      "source": [
        "**Load Feather Data**"
      ]
    },
    {
      "cell_type": "code",
      "metadata": {
        "id": "qw9rlCzoKi6x",
        "colab_type": "code",
        "colab": {}
      },
      "source": [
        "# File path\n",
        "path_processed = 'data/processed/'\n",
        "!ls {path_processed}"
      ],
      "execution_count": 0,
      "outputs": []
    },
    {
      "cell_type": "code",
      "metadata": {
        "id": "EFNLBbHBJvqf",
        "colab_type": "code",
        "colab": {}
      },
      "source": [
        "#Load feature engineered dataset using feather format\n",
        "joined = feather.read_dataframe(f'{path_processed}joined')\n",
        "joined_test = feather.read_dataframe(f'{path_processed}joined_test')\n",
        "joined.columns"
      ],
      "execution_count": 0,
      "outputs": []
    },
    {
      "cell_type": "markdown",
      "metadata": {
        "id": "rOPnb3LTKtGP",
        "colab_type": "text"
      },
      "source": [
        "**Define Categorical & Continuous Variables**\n"
      ]
    },
    {
      "cell_type": "markdown",
      "metadata": {
        "id": "EU1mguZsK3Kg",
        "colab_type": "text"
      },
      "source": [
        "* The dataset contains a mix of continuous and categorical variables.\n",
        "* It is useful to explicitly identify and define categorical variables as pandas categories to:\n",
        "* reduce the tree computation cost for RandomForests.\n",
        "* create RandomForest model with one hot encoding.\n",
        "* create embedding matrices for neural nets."
      ]
    },
    {
      "cell_type": "code",
      "metadata": {
        "id": "fHlXcQIFKpET",
        "colab_type": "code",
        "colab": {}
      },
      "source": [
        "cat_vars = ['Store', 'DayOfWeek', 'Year', 'Month', 'Day', 'StateHoliday', 'CompetitionMonthsOpen',\n",
        "    'Promo2Weeks', 'StoreType', 'Assortment', 'PromoInterval', 'CompetitionOpenSinceYear', 'Promo2SinceYear',\n",
        "    'State', 'Week', 'Events', 'Promo_fw', 'Promo_bw', 'StateHoliday_fw', 'StateHoliday_bw',\n",
        "    'SchoolHoliday_fw', 'SchoolHoliday_bw']\n",
        "\n",
        "contin_vars = ['CompetitionDistance', 'Max_TemperatureC', 'Mean_TemperatureC', 'Min_TemperatureC',\n",
        "   'Max_Humidity', 'Mean_Humidity', 'Min_Humidity', 'Max_Wind_SpeedKm_h', \n",
        "   'Mean_Wind_SpeedKm_h', 'CloudCover', 'AfterStateHoliday', 'BeforeStateHoliday', 'Promo', 'SchoolHoliday']\n",
        "n = len(joined); n"
      ],
      "execution_count": 0,
      "outputs": []
    },
    {
      "cell_type": "code",
      "metadata": {
        "id": "upy7L_0jKp0E",
        "colab_type": "code",
        "colab": {}
      },
      "source": [
        "dep = 'Sales'\n",
        "joined = joined[cat_vars+contin_vars+[dep, 'Date']].copy()"
      ],
      "execution_count": 0,
      "outputs": []
    },
    {
      "cell_type": "code",
      "metadata": {
        "id": "EokoKy3QKqNv",
        "colab_type": "code",
        "colab": {}
      },
      "source": [
        "joined_test[dep] = 0\n",
        "joined_test = joined_test[cat_vars+contin_vars+[dep, 'Date', 'Id']].copy()"
      ],
      "execution_count": 0,
      "outputs": []
    },
    {
      "cell_type": "markdown",
      "metadata": {
        "id": "4DEX1-60LoIh",
        "colab_type": "text"
      },
      "source": [
        "**Convert Categorical Variables to Pandas Categories.**\n",
        "\n",
        "Loop through the list of categoricals and convert them to Pandas categories."
      ]
    },
    {
      "cell_type": "code",
      "metadata": {
        "id": "nBkE4Fb1L-w6",
        "colab_type": "code",
        "colab": {}
      },
      "source": [
        "for v in cat_vars: \n",
        "    joined[v] = joined[v].astype('category').cat.as_ordered()"
      ],
      "execution_count": 0,
      "outputs": []
    },
    {
      "cell_type": "markdown",
      "metadata": {
        "id": "qS3laYpXL9DQ",
        "colab_type": "text"
      },
      "source": [
        "The same category mapping applied on training data is applied to the test set.\n",
        "\n",
        "Eg: If saturday is a 6 in the training set, apply_cats() ensures that same encoding is applied to the test set also."
      ]
    },
    {
      "cell_type": "code",
      "metadata": {
        "id": "hZdFAnacMJgG",
        "colab_type": "code",
        "colab": {}
      },
      "source": [
        "apply_cats(joined_test, joined)\n"
      ],
      "execution_count": 0,
      "outputs": []
    },
    {
      "cell_type": "markdown",
      "metadata": {
        "id": "3LcM1MHNMNLe",
        "colab_type": "text"
      },
      "source": [
        "**Convert Continuous Variables to Float**\n",
        "\n",
        "Loop through the list of continuous variables and set them as float (Neural Nets/PyTorch requirement)."
      ]
    },
    {
      "cell_type": "code",
      "metadata": {
        "id": "8i8Dtg6lMXgf",
        "colab_type": "code",
        "colab": {}
      },
      "source": [
        "for v in contin_vars:\n",
        "    joined[v] = joined[v].fillna(0).astype('float32')\n",
        "    joined_test[v] = joined_test[v].fillna(0).astype('float32')"
      ],
      "execution_count": 0,
      "outputs": []
    },
    {
      "cell_type": "code",
      "metadata": {
        "id": "LWEZnPs9MbTH",
        "colab_type": "code",
        "colab": {}
      },
      "source": [
        "# Set date as the index\n",
        "joined_samp = joined.set_index(\"Date\")"
      ],
      "execution_count": 0,
      "outputs": []
    },
    {
      "cell_type": "markdown",
      "metadata": {
        "id": "-ixisUUgMhvR",
        "colab_type": "text"
      },
      "source": [
        "**Preprocessing for RandomForests**\n",
        "\n",
        "* Replace categories with their numeric codes\n",
        "* Handle missing values\n",
        "* Assign the dependent variable as a separate variable\n",
        "\n",
        "**Missing Values:**\n",
        "\n",
        "* Replace missing values for categories with 0.\n",
        "(Missing categorical variables are assigned as -1 by default. Hence all categorical variables are bumped up by 1, so the missing categorical variables are assigned 0, and the numeric codes for other categorical variables start from 1.)\n",
        "* Replace missing values for continuous variables with their medians.\n",
        "**Function proc_df( )**\n",
        "\n",
        "**Parameters**\n",
        "\n",
        "* joined_samp: Independent variables\n",
        "* Sales: Dependent variable"
      ]
    },
    {
      "cell_type": "code",
      "metadata": {
        "id": "p4QoHk7PNTZn",
        "colab_type": "code",
        "colab": {}
      },
      "source": [
        "df, y, nas = proc_df(joined_samp, 'Sales')\n",
        "y = np.log(y)"
      ],
      "execution_count": 0,
      "outputs": []
    },
    {
      "cell_type": "code",
      "metadata": {
        "id": "qiGURDMHNV_4",
        "colab_type": "code",
        "colab": {}
      },
      "source": [
        "joined_test = joined_test.set_index(\"Date\")\n"
      ],
      "execution_count": 0,
      "outputs": []
    },
    {
      "cell_type": "code",
      "metadata": {
        "id": "W4eLbvMONjCq",
        "colab_type": "code",
        "colab": {}
      },
      "source": [
        "df.isnull().sum().sort_values(ascending=False).head(7)\n"
      ],
      "execution_count": 0,
      "outputs": []
    },
    {
      "cell_type": "markdown",
      "metadata": {
        "id": "qDxC2pSLNmuR",
        "colab_type": "text"
      },
      "source": [
        "**Define Training Data and Validation Set**\n"
      ]
    },
    {
      "cell_type": "code",
      "metadata": {
        "id": "VF9KIMjHNsgz",
        "colab_type": "code",
        "colab": {}
      },
      "source": [
        "def split_vals(a,n): \n",
        "    return a[:n], a[n:]"
      ],
      "execution_count": 0,
      "outputs": []
    },
    {
      "cell_type": "code",
      "metadata": {
        "id": "8W9DPm6dNvhf",
        "colab_type": "code",
        "colab": {}
      },
      "source": [
        "n_valid = 10000\n",
        "n_trn = len(df)-n_valid\n",
        "X_train, X_valid = split_vals(df, n_trn)\n",
        "y_train, y_valid = split_vals(y, n_trn)"
      ],
      "execution_count": 0,
      "outputs": []
    },
    {
      "cell_type": "code",
      "metadata": {
        "id": "QlBdygVbNysy",
        "colab_type": "code",
        "colab": {}
      },
      "source": [
        "raw_train, raw_valid = split_vals(joined_samp, n_trn)\n"
      ],
      "execution_count": 0,
      "outputs": []
    },
    {
      "cell_type": "markdown",
      "metadata": {
        "id": "uIr0849lN3qO",
        "colab_type": "text"
      },
      "source": [
        "**Error definition : Root Mean Square Percent Error (RMSPE)**\n",
        "\n",
        "* Root Mean Square Percent Error (RMSPE): Evaluation metric suggested by Kaggle in the Rossmann Competition.\n",
        "* RMSPE means we are penalized based on the ratio of the predicted value and the actual value.\n",
        "* Calculating the Root Mean Squared Error of the log(data) will give us the Root Mean Squared Percent Error."
      ]
    },
    {
      "cell_type": "code",
      "metadata": {
        "id": "Z6EhrLGWOOaY",
        "colab_type": "code",
        "colab": {}
      },
      "source": [
        "def inv_y(a): return np.exp(a)\n",
        "\n",
        "def exp_rmspe(y_pred, targ):\n",
        "    targ = inv_y(targ)\n",
        "    pct_var = (targ - inv_y(y_pred))/targ\n",
        "    return math.sqrt((pct_var**2).mean())\n",
        "def print_score(m):\n",
        "    res = [exp_rmspe(m.predict(X_train), y_train), exp_rmspe(m.predict(X_valid), y_valid),\n",
        "                m.score(X_train, y_train), m.score(X_valid, y_valid)]\n",
        "    if hasattr(m, 'oob_score_'): res.append(m.oob_score_)\n",
        "    print(res)"
      ],
      "execution_count": 0,
      "outputs": []
    },
    {
      "cell_type": "code",
      "metadata": {
        "id": "nebLrTvbORYE",
        "colab_type": "code",
        "colab": {}
      },
      "source": [
        "**set_rf_samples() :**  * Randomly samples 50000 rows from the dataset each time.\n"
      ],
      "execution_count": 0,
      "outputs": []
    },
    {
      "cell_type": "markdown",
      "metadata": {
        "id": "55GQgqcgOaVR",
        "colab_type": "text"
      },
      "source": [
        "# **RandomForest Model**"
      ]
    },
    {
      "cell_type": "markdown",
      "metadata": {
        "id": "HFi3P5GaO6pg",
        "colab_type": "text"
      },
      "source": [
        "**Function RandomForestRegressor ( )**\n",
        "\n",
        "**Parameters**\n",
        "\n",
        "**n_estimators :** Number of trees.\n",
        "\n",
        "**min_sample_leaf :** Depth of the tree.\n",
        "\n",
        "**max_features :** Randomly sample columns at each split. Rationale:\n",
        "\n",
        "The less correlated your trees are with each other, the better.\n",
        "If one column was more predictive than all other columns then every single tree will be split based on that column. But there might be some interaction of variables where that interaction is more important than the individual column. So if every tree always splits on the same thing the first time, we will not get much variation in those trees.\n",
        "Using Max features - we can carryout column sampling - i.e for every individual binary split, we choose from a different subset of columns. 0.5 means we randomly choose a half of them.\n",
        "\n",
        "**n_jobs=-1**\n",
        "\n",
        "Random forests are trivially parallelizable.\n",
        "n_jobs=-1 tells the random forest regressor to create a separate job/process for each CPU core.\n",
        "\n",
        "**Out-of-bag (OOB) Score :**\n",
        "\n",
        "OOB score indcates the model error on the rows not included in the training set.\n",
        "Its an additional metric to check if the model is overfitting."
      ]
    },
    {
      "cell_type": "markdown",
      "metadata": {
        "id": "es8Zp7tKP5e7",
        "colab_type": "text"
      },
      "source": [
        "# **Single Tree**"
      ]
    },
    {
      "cell_type": "code",
      "metadata": {
        "id": "nkBSe-YbPqfJ",
        "colab_type": "code",
        "colab": {}
      },
      "source": [
        "m = RandomForestRegressor(n_estimators=1, max_depth=3, bootstrap=False, n_jobs=-1)\n",
        "m.fit(X_train, y_train)\n",
        "print_score(m)"
      ],
      "execution_count": 0,
      "outputs": []
    },
    {
      "cell_type": "code",
      "metadata": {
        "id": "wvrAgjxnOqmW",
        "colab_type": "code",
        "colab": {}
      },
      "source": [
        "draw_tree(m.estimators_[0], df, precision=3)\n"
      ],
      "execution_count": 0,
      "outputs": []
    },
    {
      "cell_type": "code",
      "metadata": {
        "id": "vJYiNb79QrHw",
        "colab_type": "code",
        "colab": {}
      },
      "source": [
        "#set_rf_samples(50000)\n"
      ],
      "execution_count": 0,
      "outputs": []
    },
    {
      "cell_type": "markdown",
      "metadata": {
        "id": "-KVYunGmQt64",
        "colab_type": "text"
      },
      "source": [
        "**Function fit ( )**\n",
        "\n",
        "**Parameters**\n",
        "\n",
        "X_train: Independent Variables\n",
        "\n",
        "y_train: Dependent Variable"
      ]
    },
    {
      "cell_type": "code",
      "metadata": {
        "id": "b-3UYvOjQ51r",
        "colab_type": "code",
        "colab": {}
      },
      "source": [
        "m = RandomForestRegressor(n_estimators=40, min_samples_leaf=2, max_features=0.99, n_jobs=-1,oob_score=True)\n",
        "m.fit(X_train, y_train)"
      ],
      "execution_count": 0,
      "outputs": []
    },
    {
      "cell_type": "code",
      "metadata": {
        "id": "1NpigNiFQ8r8",
        "colab_type": "code",
        "colab": {}
      },
      "source": [
        "print_score(m)\n"
      ],
      "execution_count": 0,
      "outputs": []
    },
    {
      "cell_type": "markdown",
      "metadata": {
        "id": "UWV6Jo28Qou9",
        "colab_type": "text"
      },
      "source": [
        "**Feature Importance**\n",
        "\n",
        "The feature importance indicates the most important columns.\n",
        "Working:\n",
        "\n",
        "**Step 1:** Train a random forest model (m).\n",
        "\n",
        "**Step 2:** Randomly shuffle each column and use the model (m) to predict the dependent variable. Now that the coloumn is randomly shuffled, the relationship between the dependent variable and the independent variable is lost, resulting in a poor predictive accuracy. This difference enables us to calculate the feature importance.\n",
        "\n",
        "**Function rf_feat_importance ( )**\n",
        "**Parameters**\n",
        "\n",
        "**m :** RandomForest model\n",
        "\n",
        "**df :** dataframe"
      ]
    },
    {
      "cell_type": "code",
      "metadata": {
        "id": "X4P815kCRi2t",
        "colab_type": "code",
        "colab": {}
      },
      "source": [
        "fi = rf_feat_importance(m, df); fi[:10]\n"
      ],
      "execution_count": 0,
      "outputs": []
    },
    {
      "cell_type": "code",
      "metadata": {
        "id": "tX9arJyIRlNn",
        "colab_type": "code",
        "colab": {}
      },
      "source": [
        "fi.plot('cols', 'imp', figsize=(10,6), legend=False);\n"
      ],
      "execution_count": 0,
      "outputs": []
    },
    {
      "cell_type": "code",
      "metadata": {
        "id": "XJHcJS7ZRpDY",
        "colab_type": "code",
        "colab": {}
      },
      "source": [
        "def plot_fi(fi): \n",
        "    return fi.plot('cols', 'imp', 'barh', figsize=(16,10), legend=False)\n"
      ],
      "execution_count": 0,
      "outputs": []
    },
    {
      "cell_type": "code",
      "metadata": {
        "id": "-gM7_hudRrUp",
        "colab_type": "code",
        "colab": {}
      },
      "source": [
        "plot_fi(fi[:30]);\n"
      ],
      "execution_count": 0,
      "outputs": []
    },
    {
      "cell_type": "markdown",
      "metadata": {
        "id": "-7ImFK9fRuuj",
        "colab_type": "text"
      },
      "source": [
        "* **CompetitionDistance and Promotions turn out to be the most important features.**"
      ]
    },
    {
      "cell_type": "markdown",
      "metadata": {
        "id": "C1C1hfDQR1XZ",
        "colab_type": "text"
      },
      "source": [
        "# Fine Tune Model Based on Feature Importance\n",
        "**Remove the colums whose feature importance is less than or equal to 0.01 and check if there is any any impact on model accuracy and feature importance.**"
      ]
    },
    {
      "cell_type": "code",
      "metadata": {
        "id": "cokxx3Z6SIji",
        "colab_type": "code",
        "colab": {}
      },
      "source": [
        "# Remove columns whose feature importance is less than 0.01\n",
        "to_keep = fi[fi.imp>0.005].cols; len(to_keep)"
      ],
      "execution_count": 0,
      "outputs": []
    },
    {
      "cell_type": "code",
      "metadata": {
        "id": "W5FhIvtLSL9v",
        "colab_type": "code",
        "colab": {}
      },
      "source": [
        "df_keep = df[to_keep].copy()\n",
        "X_train, X_valid = split_vals(df_keep, n_trn)"
      ],
      "execution_count": 0,
      "outputs": []
    },
    {
      "cell_type": "code",
      "metadata": {
        "id": "aGiAVIkCSRwU",
        "colab_type": "code",
        "colab": {}
      },
      "source": [
        "m = RandomForestRegressor(n_estimators=40, min_samples_leaf=3, max_features=0.99,n_jobs=-1, oob_score=True)\n",
        "m.fit(X_train, y_train)\n",
        "print_score(m)"
      ],
      "execution_count": 0,
      "outputs": []
    },
    {
      "cell_type": "markdown",
      "metadata": {
        "id": "-RTJgbuFSU5H",
        "colab_type": "text"
      },
      "source": [
        "**The R-Square accuarcy is very similar to the oriignal model, but the model is a bit simpler now.**\n"
      ]
    },
    {
      "cell_type": "code",
      "metadata": {
        "id": "qh8AtmhGSZrw",
        "colab_type": "code",
        "colab": {}
      },
      "source": [
        "fi = rf_feat_importance(m, df_keep)\n",
        "plot_fi(fi);"
      ],
      "execution_count": 0,
      "outputs": []
    },
    {
      "cell_type": "markdown",
      "metadata": {
        "id": "qbqTbpFeScXA",
        "colab_type": "text"
      },
      "source": [
        "**The feature importance remains the same after eliminating less important variables.**\n"
      ]
    },
    {
      "cell_type": "markdown",
      "metadata": {
        "id": "vF9FV7QESi3S",
        "colab_type": "text"
      },
      "source": [
        "**One-hot encoding**\n",
        "* Convert coulmuns with cardinality less than 7 into seperate binary columns.\n",
        "* proc_df's optional max_n_cat argument will turn categorical variables into new columns.\n",
        "* Now some of these new columns may prove to have more important features than in the earlier situation, where all categories were in one column.\n",
        "* For example, the column StoreType which has 4 categories:\n",
        "\n",
        "* a\n",
        "* b\n",
        "* c\n",
        "* d\n",
        "\n",
        "gets turned into 6 new columns:\n",
        "\n",
        "* StoreType_a\n",
        "* StoreType_b\n",
        "* StoreType_c\n",
        "* StoreType_d\n",
        "\n",
        "and the column StoreType gets removed."
      ]
    },
    {
      "cell_type": "code",
      "metadata": {
        "id": "5oQfPYPvSfzD",
        "colab_type": "code",
        "colab": {}
      },
      "source": [
        "df_trn2, y_trn, nas = proc_df(joined_samp, 'Sales',max_n_cat=7)\n",
        "y_trn = np.log(y_trn)\n",
        "#df_trn2.isnull().sum().sort_values(ascending=False).head(7)"
      ],
      "execution_count": 0,
      "outputs": []
    },
    {
      "cell_type": "code",
      "metadata": {
        "id": "wBW_EPF-S6ak",
        "colab_type": "code",
        "colab": {}
      },
      "source": [
        "#df_trn2.columns.str.endswith('_nan', na=False)\n",
        "#df_trn2[df_trn2.columns[pd.Series(df_trn2.columns).str.endswith('_nan')]].describe()\n",
        "\n",
        "for c in df_trn2.columns:\n",
        "    if c.endswith('_nan'):\n",
        "        if c in df_trn2.columns: df_trn2.drop(c, inplace=True, axis=1)"
      ],
      "execution_count": 0,
      "outputs": []
    },
    {
      "cell_type": "code",
      "metadata": {
        "id": "-DkYDN0jS8yZ",
        "colab_type": "code",
        "colab": {}
      },
      "source": [
        "df_trn2.columns\n"
      ],
      "execution_count": 0,
      "outputs": []
    },
    {
      "cell_type": "code",
      "metadata": {
        "id": "jCyb3u8BTAxG",
        "colab_type": "code",
        "colab": {}
      },
      "source": [
        "X_train, X_valid = split_vals(df_trn2, n_trn)\n",
        "m_ohe = RandomForestRegressor(n_estimators=40, min_samples_leaf=3, max_features=0.99, n_jobs=-1, oob_score=True)\n",
        "m_ohe.fit(X_train, y_train)\n",
        "print_score(m_ohe)"
      ],
      "execution_count": 0,
      "outputs": []
    },
    {
      "cell_type": "code",
      "metadata": {
        "id": "7QLPjD35TDbZ",
        "colab_type": "code",
        "colab": {}
      },
      "source": [
        "fi = rf_feat_importance(m_ohe, df_trn2)\n",
        "plot_fi(fi[:25]);\n"
      ],
      "execution_count": 0,
      "outputs": []
    },
    {
      "cell_type": "markdown",
      "metadata": {
        "id": "yu6UTom0TGZq",
        "colab_type": "text"
      },
      "source": [
        "**Data exploration Based on Feature Importance**\n",
        "\n",
        "**Competition Distance**\n",
        "\n",
        "The feature importance function indiactes the competition distance to be the most important variable.\n",
        "Lets understand this variable better."
      ]
    },
    {
      "cell_type": "code",
      "metadata": {
        "id": "0L285kWETF4-",
        "colab_type": "code",
        "colab": {}
      },
      "source": [
        "df_tmp= joined_samp.copy()\n",
        "df_tmp = df_tmp.groupby('Store', as_index = False).agg({'Assortment': 'min','StoreType':'min',\n",
        "                                                    'CompetitionDistance': 'max','CompetitionOpenSinceYear': 'max',\n",
        "                                                    'CompetitionMonthsOpen':'max','Sales': 'mean'})\n",
        "\n",
        "(ggplot(data=df_tmp,mapping=aes(x='CompetitionDistance')) \n",
        "+ geom_histogram(bins =15, colour=\"black\")\n",
        "+ labs(\n",
        "        title ='Competition for most of the Rossmann stores is right skewed',\n",
        "        x = 'Competition Distance',\n",
        "        y = 'Store Count',\n",
        "    ) \n",
        " + geom_vline(xintercept = 2320, size = 1, colour = \"#FF3721\",linetype = \"dashed\")\n",
        "+ theme_bw()\n",
        ")"
      ],
      "execution_count": 0,
      "outputs": []
    },
    {
      "cell_type": "code",
      "metadata": {
        "id": "h9hP9n8JTWD6",
        "colab_type": "code",
        "colab": {}
      },
      "source": [
        "df_tmp.CompetitionDistance.median()\n"
      ],
      "execution_count": 0,
      "outputs": []
    },
    {
      "cell_type": "code",
      "metadata": {
        "id": "-9V6IXfmTYE4",
        "colab_type": "code",
        "colab": {}
      },
      "source": [
        "df_tmp[df_tmp.CompetitionDistance <= df_tmp.CompetitionDistance.median()].Store.count()\n"
      ],
      "execution_count": 0,
      "outputs": []
    },
    {
      "cell_type": "code",
      "metadata": {
        "id": "yvP0Ae83TcJA",
        "colab_type": "code",
        "colab": {}
      },
      "source": [
        "(ggplot(data=df_tmp,mapping=aes(x='CompetitionDistance', y = 'Sales')) \n",
        "+ geom_point()\n",
        "+ labs(\n",
        "        title ='Mean Sales for Rossmann Stores are higher with decreasing order of competition distance',\n",
        "        x = 'Competition Distance',\n",
        "        y = 'Mean Sales',\n",
        "    ) \n",
        "+ geom_vline(xintercept = 2320, size = 1, colour = \"#FF3721\",linetype = \"dashed\")\n",
        ")"
      ],
      "execution_count": 0,
      "outputs": []
    },
    {
      "cell_type": "markdown",
      "metadata": {
        "id": "McRBKszWTi-s",
        "colab_type": "text"
      },
      "source": [
        "**Partial Dependece Plots**"
      ]
    },
    {
      "cell_type": "code",
      "metadata": {
        "id": "3mFk45OJTnBw",
        "colab_type": "code",
        "colab": {}
      },
      "source": [
        "x = get_sample(X_train[X_train.CompetitionDistance <=3000], 1000)\n"
      ],
      "execution_count": 0,
      "outputs": []
    },
    {
      "cell_type": "code",
      "metadata": {
        "id": "KWUrHcAwTpu8",
        "colab_type": "code",
        "colab": {}
      },
      "source": [
        "def plot_pdp(feat, clusters=None, feat_name=None):\n",
        "    feat_name = feat_name or feat\n",
        "    p = pdp.pdp_isolate(m_ohe, x, x.columns, feat)\n",
        "    return pdp.pdp_plot(p, feat_name, plot_lines=True,\n",
        "                        cluster=clusters is not None,\n",
        "                        n_cluster_centers=clusters)"
      ],
      "execution_count": 0,
      "outputs": []
    },
    {
      "cell_type": "code",
      "metadata": {
        "id": "07tM6dM7TsTF",
        "colab_type": "code",
        "colab": {}
      },
      "source": [
        "plot_pdp('CompetitionDistance', clusters=10)\n"
      ],
      "execution_count": 0,
      "outputs": []
    },
    {
      "cell_type": "markdown",
      "metadata": {
        "id": "vLAkhsxuTuyA",
        "colab_type": "text"
      },
      "source": [
        "* **The Competition Distance < 500 impacts the sales of the store.**\n"
      ]
    },
    {
      "cell_type": "markdown",
      "metadata": {
        "id": "zDKb52gCT2e4",
        "colab_type": "text"
      },
      "source": [
        "**Promotions**"
      ]
    },
    {
      "cell_type": "code",
      "metadata": {
        "id": "0GCx2Y9cT79h",
        "colab_type": "code",
        "colab": {}
      },
      "source": [
        "#df_promo = joined_samp.groupby('Promo',as_index = False).agg({'Sales': 'mean'})\n",
        "df_promo_store = joined_samp.groupby(['Store','Promo'],as_index = False).agg({'CompetitionDistance': 'max','StoreType':'min','Assortment': 'min','Sales': 'mean'})\n",
        "df_promo_store.head()\n",
        "\n",
        "#df_tmp= joined_samp.copy()\n",
        "#df_tmp = df_tmp.groupby('Store', as_index = False).agg({'Assortment': 'min','StoreType':'min',\n",
        "#                                                    'CompetitionDistance': 'max','CompetitionOpenSinceYear': 'max',\n",
        "#                                                    'CompetitionMonthsOpen':'max','Sales': 'mean'})"
      ],
      "execution_count": 0,
      "outputs": []
    },
    {
      "cell_type": "code",
      "metadata": {
        "id": "o7fH3AdbT-6Q",
        "colab_type": "code",
        "colab": {}
      },
      "source": [
        "ggplot(df_promo_store, aes(x = 'CompetitionDistance', y ='Sales'))\n",
        " + geom_point()\n",
        " + geom_smooth(\n",
        "        aes(x = 'CompetitionDistance',\n",
        "            y = 'Sales'),\n",
        "           colour='red')\n",
        " + labs(\n",
        "        title ='Promotions have a considerable impact on the mean sales',\n",
        "        x = 'Competition Distance',\n",
        "        y = 'Sales (Mean)',\n",
        "    )\n",
        "+\n",
        "facet_wrap('Promo')\n",
        ")\n"
      ],
      "execution_count": 0,
      "outputs": []
    },
    {
      "cell_type": "code",
      "metadata": {
        "id": "oQ5earUbUCdk",
        "colab_type": "code",
        "colab": {}
      },
      "source": [
        "(\n",
        "ggplot(df_promo_store[df_promo_store.CompetitionDistance <=2320], aes(x = 'CompetitionDistance', \n",
        "                                                       y ='Sales'))\n",
        " + geom_point()\n",
        " + geom_smooth(\n",
        "        aes(x = 'CompetitionDistance',\n",
        "            y = 'Sales'),\n",
        "           colour='red')\n",
        " + labs(\n",
        "        title ='Promotions have a considerable impact on the mean sales',\n",
        "        x = 'Competition Distance',\n",
        "        y = 'Sales (Mean)',\n",
        "    )\n",
        "+\n",
        "facet_wrap('Promo')\n",
        ")\n"
      ],
      "execution_count": 0,
      "outputs": []
    },
    {
      "cell_type": "markdown",
      "metadata": {
        "id": "DWgQ2Bx_UFg1",
        "colab_type": "text"
      },
      "source": [
        "**Summary**\n",
        "\n",
        "* RandomForest model gave us a decent accuracy for Sales prediction.\n",
        "* The accuracy obtained would put us in the top 2000 of the public leaderboard.\n",
        "* More importantly it helped us identify the important variables and help us understand the data better.\n",
        "* However if we need to obtain better preduction results we need to use Neural networs with hidden layers to better capture the interactions."
      ]
    },
    {
      "cell_type": "markdown",
      "metadata": {
        "id": "rX9vdb20URT7",
        "colab_type": "text"
      },
      "source": [
        "#**Neural networks**\n",
        "\n",
        "**To Run on a Random Subset of the Dataset**\n",
        "Train the neural net on a small sample\n",
        "\n",
        "* to ensure everything is working fine,\n",
        "* to determine the optimum hyperparameters and architectures."
      ]
    },
    {
      "cell_type": "code",
      "metadata": {
        "id": "hD1YpIxTUimM",
        "colab_type": "code",
        "colab": {}
      },
      "source": [
        "idxs = get_cv_idxs(n, val_pct=150000/n)\n",
        "joined_samp = joined.iloc[idxs].set_index(\"Date\")\n",
        "samp_size = len(joined_samp); samp_size"
      ],
      "execution_count": 0,
      "outputs": []
    },
    {
      "cell_type": "markdown",
      "metadata": {
        "id": "dVu59Rs9Ulx2",
        "colab_type": "text"
      },
      "source": [
        "**To Run on the Complete Dataset**\n"
      ]
    },
    {
      "cell_type": "code",
      "metadata": {
        "id": "3emOEnGiUqJg",
        "colab_type": "code",
        "colab": {}
      },
      "source": [
        "samp_size = n\n",
        "joined_samp = joined.set_index(\"Date\"); samp_size"
      ],
      "execution_count": 0,
      "outputs": []
    },
    {
      "cell_type": "code",
      "metadata": {
        "id": "22nHgB3PUQyg",
        "colab_type": "code",
        "colab": {}
      },
      "source": [
        "joined_samp.head(2)\n"
      ],
      "execution_count": 0,
      "outputs": []
    },
    {
      "cell_type": "markdown",
      "metadata": {
        "id": "9MmZAnZpU0pT",
        "colab_type": "text"
      },
      "source": [
        "**Note:**\n",
        "\n",
        "* The year variable is replaced by 3, and categorical variables are replaced by the pandas categories code in above output snippet.\n",
        "\n",
        "* Important step for creating embedding matrices later."
      ]
    },
    {
      "cell_type": "markdown",
      "metadata": {
        "id": "nuZD_AJ-VK5_",
        "colab_type": "text"
      },
      "source": [
        "**Define Training Data and Validation Set**\n",
        "In time series data, cross-validation is not random.\n",
        "Holdout data is generally the most recent data. Hence we take 25% of the rows sorted by date as the initial validation set. (https://www.fast.ai/2017/11/13/validation-sets/)"
      ]
    },
    {
      "cell_type": "code",
      "metadata": {
        "id": "QBd2r423VYWG",
        "colab_type": "code",
        "colab": {}
      },
      "source": [
        "train_ratio = 0.75\n",
        "# train_ratio = 0.9\n",
        "train_size = int(samp_size * train_ratio); train_size\n",
        "#val_idx = list(range(train_size, len(df)))"
      ],
      "execution_count": 0,
      "outputs": []
    },
    {
      "cell_type": "markdown",
      "metadata": {
        "id": "FVNP9K41Va5j",
        "colab_type": "text"
      },
      "source": [
        "**Validation Set**\n",
        "\n",
        "We need to predict the next two weeks of sales in the test set, therefore we create a validation set which is the last two weeks of our training set."
      ]
    },
    {
      "cell_type": "code",
      "metadata": {
        "id": "x_mAtnOqVg0-",
        "colab_type": "code",
        "colab": {}
      },
      "source": [
        "val_idx = np.flatnonzero(\n",
        "    (df.index<=datetime.datetime(2014,9,17)) & (df.index>=datetime.datetime(2014,8,1)))"
      ],
      "execution_count": 0,
      "outputs": []
    },
    {
      "cell_type": "markdown",
      "metadata": {
        "id": "q0Sm4IXRVh05",
        "colab_type": "text"
      },
      "source": [
        "**To Run on Complete Dataset for the Final Model**\n",
        "\n",
        "* We retrain the final model on the whole dataset including the validation set.\n",
        "* Fastai -assumes we always have a validations set.\n",
        "* Hence define the first row as a validation set as a workaround."
      ]
    },
    {
      "cell_type": "code",
      "metadata": {
        "id": "GrF54PUaVm6q",
        "colab_type": "code",
        "colab": {}
      },
      "source": [
        "val_idx=[0]\n"
      ],
      "execution_count": 0,
      "outputs": []
    },
    {
      "cell_type": "markdown",
      "metadata": {
        "id": "1g0gPEffVx-0",
        "colab_type": "text"
      },
      "source": [
        "**Create Model Data Object**\n",
        "\n",
        "ColumnarModelData represents a training set, validation set and an optional test set of a standard structured data.\n",
        "\n",
        "* path_processed: Specifies the location to store the model files.\n",
        "* val_idx: List of indices of the rows of the validation set\n",
        "* df: Data frame\n",
        "* y: Dependent Variable\n",
        "* cat_flds: List of columns to be treated as categorical variables."
      ]
    },
    {
      "cell_type": "code",
      "metadata": {
        "id": "Ukczdpb0V86N",
        "colab_type": "code",
        "colab": {}
      },
      "source": [
        "md = ColumnarModelData.from_data_frame(path_processed, val_idx, df, y.astype(np.float32), cat_flds=cat_vars, bs=128,\n",
        "                                       test_df=df_test)"
      ],
      "execution_count": 0,
      "outputs": []
    },
    {
      "cell_type": "markdown",
      "metadata": {
        "id": "uZhO5dAvV_tE",
        "colab_type": "text"
      },
      "source": [
        "**Embeddings**"
      ]
    },
    {
      "cell_type": "code",
      "metadata": {
        "id": "iHMdFr6lWEmB",
        "colab_type": "code",
        "colab": {}
      },
      "source": [
        "cat_sz = [(c, len(joined_samp[c].cat.categories)+1) for c in cat_vars]\n"
      ],
      "execution_count": 0,
      "outputs": []
    },
    {
      "cell_type": "code",
      "metadata": {
        "id": "2mSw42Q5WHA9",
        "colab_type": "code",
        "colab": {}
      },
      "source": [
        "# Sttore: 1116 -> indicates the number of rows in the embedding matrix\n",
        "cat_sz"
      ],
      "execution_count": 0,
      "outputs": []
    },
    {
      "cell_type": "markdown",
      "metadata": {
        "id": "52555vigWSez",
        "colab_type": "text"
      },
      "source": [
        "* **Some columns have more categories or levels than others.**\n",
        "* **Eg: Store has over 1000 levels.**"
      ]
    },
    {
      "cell_type": "markdown",
      "metadata": {
        "id": "LPCQaWwVWLGc",
        "colab_type": "text"
      },
      "source": [
        "**Embedding Matrix**\n",
        "* Embedding matrices have to shown to perform better than one-hot encodings.\n",
        "* Embeddings - by having higher dimensionality vector rather than just a single number, gives the deep learning network a chance to learn rich representations.\n",
        "\n",
        "**Embedding Matrix - Definition**\n",
        "* Cardinality of the variables is used to define the size of the embedding matrix.\n",
        "* Each level will be assosiated with a vector based on the length as per the rules defined below:\n",
        "* Rule 1 - Dimensionality of the embeddings are set as half of the discrete value the category has, up to maximum of 50.\n",
        "* Rule 2 - Even if there were no missing values set an extra one aside for unknown."
      ]
    },
    {
      "cell_type": "code",
      "metadata": {
        "id": "qZbAARBqW5OP",
        "colab_type": "code",
        "colab": {}
      },
      "source": [
        "emb_szs = [(c, min(50, (c+1)//2)) for _,c in cat_sz]\n",
        "# Returns a list of tuples"
      ],
      "execution_count": 0,
      "outputs": []
    },
    {
      "cell_type": "code",
      "metadata": {
        "id": "3UtFnuCiW-uh",
        "colab_type": "code",
        "colab": {}
      },
      "source": [
        "emb_szs\n"
      ],
      "execution_count": 0,
      "outputs": []
    },
    {
      "cell_type": "code",
      "metadata": {
        "id": "4G_FU39MXDOe",
        "colab_type": "code",
        "colab": {}
      },
      "source": [
        "max_log_y = np.max(y)\n",
        "y_range = (0, max_log_y*1.2)"
      ],
      "execution_count": 0,
      "outputs": []
    },
    {
      "cell_type": "markdown",
      "metadata": {
        "colab_type": "text",
        "id": "1dgKaC_WW6bD"
      },
      "source": [
        "**Function get_learner ( )**\n",
        "\n",
        "**Parameters**\n",
        "\n",
        "* emb_szs: Embedding size\n",
        "* len(df.columns)-len(cat_vars): Number of continuous variables in the data frame.\n",
        "* 1: Number of outputs (Output of the last linear layer - We need to predict one number i.e Sales)\n",
        "* 0.04: Dropout of the embedding matrix.\n",
        "* [1000,500]: Activations in the linear layers.\n",
        "* [0.001,0.01]: Dropouts to use in subsequent layers\n",
        "\n",
        "**Dropouts**\n",
        "\n",
        "Output of each linear layer is going to be a rank 1 tensor.\n",
        "Dropout is going to remove some of the activations."
      ]
    },
    {
      "cell_type": "code",
      "metadata": {
        "id": "969sQX7qXfPT",
        "colab_type": "code",
        "colab": {}
      },
      "source": [
        "m = md.get_learner(emb_szs, len(df.columns)-len(cat_vars),0.04, 1, [1000,500], [0.001,0.01], y_range=y_range)\n",
        "m.summary()"
      ],
      "execution_count": 0,
      "outputs": []
    },
    {
      "cell_type": "code",
      "metadata": {
        "id": "TkByECEKXmtP",
        "colab_type": "code",
        "colab": {}
      },
      "source": [
        "lr = 1e-3\n",
        "m.lr_find()"
      ],
      "execution_count": 0,
      "outputs": []
    },
    {
      "cell_type": "code",
      "metadata": {
        "id": "cVH2va7qXpuY",
        "colab_type": "code",
        "colab": {}
      },
      "source": [
        "m.sched.plot(100)\n"
      ],
      "execution_count": 0,
      "outputs": []
    },
    {
      "cell_type": "code",
      "metadata": {
        "id": "CHdT9_WsXvn4",
        "colab_type": "code",
        "colab": {}
      },
      "source": [
        "m = md.get_learner(emb_szs, len(df.columns)-len(cat_vars),\n",
        "                   0.04, 1, [1000,500], [0.001,0.01], y_range=y_range)\n",
        "lr = 1e-3"
      ],
      "execution_count": 0,
      "outputs": []
    },
    {
      "cell_type": "markdown",
      "metadata": {
        "id": "y1ZXBhBPXuIM",
        "colab_type": "text"
      },
      "source": [
        "**Function fit ( )**\n",
        "\n",
        "**Parameters**\n",
        "\n",
        "* lr : Learning Rate\n",
        "* 2 : Number of Cycles\n",
        "* metrics: Print the results of this function at the end of each cycle"
      ]
    },
    {
      "cell_type": "code",
      "metadata": {
        "id": "lAxooCb9YRed",
        "colab_type": "code",
        "colab": {}
      },
      "source": [
        "m.fit(lr, 2, metrics=[exp_rmspe], cycle_len=4)\n"
      ],
      "execution_count": 0,
      "outputs": []
    },
    {
      "cell_type": "markdown",
      "metadata": {
        "id": "6iQUcvDDW3J7",
        "colab_type": "text"
      },
      "source": [
        "**Complete Dataset**"
      ]
    },
    {
      "cell_type": "code",
      "metadata": {
        "id": "GVw0lXTdYcEg",
        "colab_type": "code",
        "colab": {}
      },
      "source": [
        "m = md.get_learner(emb_szs, len(df.columns)-len(cat_vars),\n",
        "                   0.04, 1, [1000,500], [0.001,0.01], y_range=y_range)\n",
        "lr = 1e-3"
      ],
      "execution_count": 0,
      "outputs": []
    },
    {
      "cell_type": "markdown",
      "metadata": {
        "colab_type": "text",
        "id": "fXvyLqIlW3sJ"
      },
      "source": [
        "**Hyperparameter Tuning**"
      ]
    },
    {
      "cell_type": "code",
      "metadata": {
        "id": "d1c3QIwrYmi6",
        "colab_type": "code",
        "colab": {}
      },
      "source": [
        "m.fit(lr, 3, metrics=[exp_rmspe])\n"
      ],
      "execution_count": 0,
      "outputs": []
    },
    {
      "cell_type": "code",
      "metadata": {
        "id": "LxAt0DurYqMt",
        "colab_type": "code",
        "colab": {}
      },
      "source": [
        "m.fit(lr, 3, metrics=[exp_rmspe], cycle_len=1)\n"
      ],
      "execution_count": 0,
      "outputs": []
    },
    {
      "cell_type": "markdown",
      "metadata": {
        "id": "EuGD0iMFY9Tm",
        "colab_type": "text"
      },
      "source": [
        "**Test Set**"
      ]
    },
    {
      "cell_type": "code",
      "metadata": {
        "id": "nD5fxescZDZJ",
        "colab_type": "code",
        "colab": {}
      },
      "source": [
        "m.save('val0')\n"
      ],
      "execution_count": 0,
      "outputs": []
    },
    {
      "cell_type": "code",
      "metadata": {
        "id": "8-wnxPZHZEu7",
        "colab_type": "code",
        "colab": {}
      },
      "source": [
        "m.load('val0')\n"
      ],
      "execution_count": 0,
      "outputs": []
    },
    {
      "cell_type": "code",
      "metadata": {
        "id": "NGSKwauzan2C",
        "colab_type": "code",
        "colab": {}
      },
      "source": [
        "x,y=m.predict_with_targs()\n"
      ],
      "execution_count": 0,
      "outputs": []
    },
    {
      "cell_type": "code",
      "metadata": {
        "id": "twkXi1h6apj1",
        "colab_type": "code",
        "colab": {}
      },
      "source": [
        "exp_rmspe(x,y)\n"
      ],
      "execution_count": 0,
      "outputs": []
    },
    {
      "cell_type": "markdown",
      "metadata": {
        "id": "8sjoDOb7gbzZ",
        "colab_type": "text"
      },
      "source": [
        "# **Summary**\n",
        "* Neural Networks gives really good accuracy beased on Root Mean Square Percent Error.\n",
        "* It better captures the complex time series interction through the use of enrtity embedding matrices.\n",
        "* RandomForests was useful for initial data exploration and understand the results of the neural nets.\n"
      ]
    }
  ]
}